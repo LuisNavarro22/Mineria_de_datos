{
  "nbformat": 4,
  "nbformat_minor": 0,
  "metadata": {
    "colab": {
      "name": "Untitled0.ipynb",
      "provenance": [],
      "collapsed_sections": [],
      "authorship_tag": "ABX9TyM0ZmN018Ifu4kuMrmhSdtd",
      "include_colab_link": true
    },
    "kernelspec": {
      "name": "python3",
      "display_name": "Python 3"
    },
    "language_info": {
      "name": "python"
    }
  },
  "cells": [
    {
      "cell_type": "markdown",
      "metadata": {
        "id": "view-in-github",
        "colab_type": "text"
      },
      "source": [
        "<a href=\"https://colab.research.google.com/github/LuisNavarro22/Mineria_de_datos/blob/main/EjerciciosPhyton1.ipynb\" target=\"_parent\"><img src=\"https://colab.research.google.com/assets/colab-badge.svg\" alt=\"Open In Colab\"/></a>"
      ]
    },
    {
      "cell_type": "markdown",
      "metadata": {
        "id": "HIvKBIyKTyr2"
      },
      "source": [
        "Ejercicios Phyton"
      ]
    },
    {
      "cell_type": "markdown",
      "metadata": {
        "id": "8yr_MceLRPeJ"
      },
      "source": [
        "Ejercicio 1\n",
        "\n",
        "Realiza una variable con tu matricula y realiza una secuencia de imprimir con tu nombre y tu matricula concatenados.\n",
        "\n"
      ]
    },
    {
      "cell_type": "code",
      "metadata": {
        "colab": {
          "base_uri": "https://localhost:8080/"
        },
        "id": "02i5BJzZUPKM",
        "outputId": "d66bf744-fe9e-48ce-e31f-8f6fd1fb0448"
      },
      "source": [
        "nomb= input(\"Introduce tu nombre: \")\n",
        "mat=int (input(\"Introduce tu matricula: \"))\n",
        "print(nomb, mat)\n"
      ],
      "execution_count": 7,
      "outputs": [
        {
          "output_type": "stream",
          "text": [
            "Introduce tu nombre: Luis Navarro\n",
            "Introduce tu matricula: 1866581\n",
            "Luis Navarro 1866581\n"
          ],
          "name": "stdout"
        }
      ]
    },
    {
      "cell_type": "markdown",
      "metadata": {
        "id": "evpQXz7OVrqg"
      },
      "source": [
        "Ejercicio 2\n",
        "Pidiendo el input del usuario pide dos números y crea una pequeña calculadora con los operadores básicos de suma, resta, multiplicación, división, y exponente."
      ]
    },
    {
      "cell_type": "code",
      "metadata": {
        "colab": {
          "base_uri": "https://localhost:8080/"
        },
        "id": "4VUrnykIVwla",
        "outputId": "08b99576-962b-41e5-9b9e-ef68625fe5de"
      },
      "source": [
        "n1= float (input(\"Ingrese primer numero: \"))\n",
        "n2=float (input(\"Ingrese segundo numero: \"))\n",
        "\n",
        "print(\"El resultado de la suma es \", n1+n2)\n",
        "print(\"El resultado de la resta es \",n1-n2)\n",
        "print(\"El resultado de la multiplicacion es \",n1*n2)\n",
        "print(\"El resultado de la division es \",n1/n2)\n",
        "print(\"El resultado del exponente es \",n1**n2)\n",
        "\n"
      ],
      "execution_count": 12,
      "outputs": [
        {
          "output_type": "stream",
          "text": [
            "Ingrese primer numero: 10\n",
            "Ingrese segundo numero: 2\n",
            "El resultado de la suma es  12.0\n",
            "El resultado de la resta es  8.0\n",
            "El resultado de la multiplicacion es  20.0\n",
            "El resultado de la division es  5.0\n",
            "El resultado del exponente es  100.0\n"
          ],
          "name": "stdout"
        }
      ]
    },
    {
      "cell_type": "markdown",
      "metadata": {
        "id": "oFZHKC3JYzK2"
      },
      "source": [
        "Ejercicio 3\n",
        "Con loop while o for, realiza una lista de 10 numeros multiplos de 3, y después realiza una función de loop que sume todos los números dentro del arreglo."
      ]
    },
    {
      "cell_type": "code",
      "metadata": {
        "colab": {
          "base_uri": "https://localhost:8080/"
        },
        "id": "mpGqjl3oY5T4",
        "outputId": "3fce3651-cc79-4791-add9-22028af194d4"
      },
      "source": [
        "i=1\n",
        "j=1\n",
        "sum=0\n",
        "mult= []\n",
        "while i<=10:\n",
        "  k=j*5\n",
        "  sum=sum+k\n",
        "  mult.append(k)\n",
        "  j=j+1\n",
        "  print(mult[i-1])\n",
        "  i=i+1\n",
        "  \n",
        "print(\"La suma de la lista es de \", sum)\n",
        "\n"
      ],
      "execution_count": 26,
      "outputs": [
        {
          "output_type": "stream",
          "text": [
            "5\n",
            "10\n",
            "15\n",
            "20\n",
            "25\n",
            "30\n",
            "35\n",
            "40\n",
            "45\n",
            "50\n",
            "La suma de la lista es de  275\n"
          ],
          "name": "stdout"
        }
      ]
    },
    {
      "cell_type": "markdown",
      "metadata": {
        "id": "hjLdSeTYa29G"
      },
      "source": [
        "Ejercicio 4\n",
        "\n",
        "Con una función de if else, revisar si un número es par o es impar.\n",
        "\n",
        "Con una función de if else, revisar si un número es primo o no."
      ]
    },
    {
      "cell_type": "code",
      "metadata": {
        "colab": {
          "base_uri": "https://localhost:8080/"
        },
        "id": "oH3gGlyka8db",
        "outputId": "43678e72-0521-4470-aa9a-219ee44ba953"
      },
      "source": [
        "num1= int (input(\"Ingresar un numero: \"))\n",
        "if num1 % 2 == 0:\n",
        "    print(\"El numero\", num1, \"es par \")\n",
        "else:\n",
        "    print(\"El numero\", num1, \"es impar\")\n",
        "\n",
        "i=0\n",
        "for x in range(2,num1-1):\n",
        "     if num1%x == 0:\n",
        "      i=1\n",
        "     break\n",
        "if i==1:\n",
        "    print(\"El numero\", num1, \"no es primo\")\n",
        "else :\n",
        "    print(\"El numero\", num1, \"es primo\")\n",
        "\n"
      ],
      "execution_count": 41,
      "outputs": [
        {
          "output_type": "stream",
          "text": [
            "Ingresar un numero: 5\n",
            "El numero 5 es impar\n",
            "El numero 5 es primo\n"
          ],
          "name": "stdout"
        }
      ]
    },
    {
      "cell_type": "markdown",
      "metadata": {
        "id": "m6Y02np-ds3h"
      },
      "source": [
        "Ejercicio 5\n",
        "Utilizando diferentes clases en python, crea una calculadora con los operadores básicos de suma, resta, multiplicación, división, y exponente."
      ]
    },
    {
      "cell_type": "code",
      "metadata": {
        "colab": {
          "base_uri": "https://localhost:8080/"
        },
        "id": "ODARsCOJfXNN",
        "outputId": "334f627f-7f39-4974-f1a4-35e479ab1cfd"
      },
      "source": [
        "def suma(x,y):\n",
        "    return(x+y)\n",
        "def rest(x,y):\n",
        "    return(x-y)\n",
        "def mult(x,y):\n",
        "    return(x*y)\n",
        "def div(x,y):\n",
        "    return(x/y)\n",
        "def expo(x,y):\n",
        "    return(x**y)\n",
        "n1 = float (input(\"Ingrese el primer numero: \"))\n",
        "n2 = float (input(\"Ingrese el segundo numero: \"))\n",
        "\n",
        "\n",
        "print(\"La suma es de \",suma(n1,n2))\n",
        "print(\"La resta es de \",rest(n1,n2))\n",
        "print(\"La multiplicacion es de \",mult(n1,n2))\n",
        "print(\"La division es de \",div(n1,n2))\n",
        "print(\"El exponente es de \",expo(n1,n2))\n",
        "\n"
      ],
      "execution_count": 53,
      "outputs": [
        {
          "output_type": "stream",
          "text": [
            "Ingrese el primer numero: 5\n",
            "Ingrese el segundo numero: 3\n",
            "La suma es de  8.0\n",
            "La resta es de  2.0\n",
            "La multiplicacion es de  15.0\n",
            "La division es de  1.6666666666666667\n",
            "El exponente es de  125.0\n"
          ],
          "name": "stdout"
        }
      ]
    },
    {
      "cell_type": "markdown",
      "metadata": {
        "id": "HjYplhUtgm6e"
      },
      "source": [
        "Crear una variable flotante, integer, boleana y compleja e imprimir el tipo de variable que es."
      ]
    },
    {
      "cell_type": "code",
      "metadata": {
        "colab": {
          "base_uri": "https://localhost:8080/"
        },
        "id": "9dFWXwwugrAb",
        "outputId": "455ed77d-8e46-4898-e307-1ab44628788e"
      },
      "source": [
        "x= int(6)\n",
        "y= float(2.5)\n",
        "i= bool(1)\n",
        "j= complex(124.87e+24)\n",
        "print(\"X es tipo\", type(x))\n",
        "print(\"Y es tipo\", type(y))\n",
        "print(\"I es tipo\", type(i))\n",
        "print(\"J es tipo\", type(j))"
      ],
      "execution_count": 55,
      "outputs": [
        {
          "output_type": "stream",
          "text": [
            "X es tipo <class 'int'>\n",
            "Y es tipo <class 'float'>\n",
            "I es tipo <class 'bool'>\n",
            "J es tipo <class 'complex'>\n"
          ],
          "name": "stdout"
        }
      ]
    },
    {
      "cell_type": "markdown",
      "metadata": {
        "id": "FZDz4tfWhaBB"
      },
      "source": [
        "Crear una tupla con valores enteros imprimir el primer y ultimo valor."
      ]
    },
    {
      "cell_type": "code",
      "metadata": {
        "colab": {
          "base_uri": "https://localhost:8080/"
        },
        "id": "ym_W5Pz3hc8d",
        "outputId": "29947f39-6588-4e0e-a47d-1326c34bfae5"
      },
      "source": [
        "A1=(2,4,6,8,10)\n",
        "print(\"El primer valor es: \", A1[0])\n",
        "print(\"El ultimo valor es: \", A1[4])"
      ],
      "execution_count": 59,
      "outputs": [
        {
          "output_type": "stream",
          "text": [
            "El primer valor es:  2\n",
            "El ultimo valor es:  10\n"
          ],
          "name": "stdout"
        }
      ]
    },
    {
      "cell_type": "markdown",
      "metadata": {
        "id": "4xoUkwyui1lY"
      },
      "source": [
        "Verificar si una variable existe dentro de la tupla."
      ]
    },
    {
      "cell_type": "code",
      "metadata": {
        "colab": {
          "base_uri": "https://localhost:8080/"
        },
        "id": "CUNJp9csi6th",
        "outputId": "3eb51417-3553-4c98-cbfb-bdd6a009d051"
      },
      "source": [
        "n1=20\n",
        "if n1 in A1:\n",
        "      print(n1,\" si existe en la tupla\")\n",
        "else:\n",
        "     print(n1,\" no existe en la tupla\")"
      ],
      "execution_count": 71,
      "outputs": [
        {
          "output_type": "stream",
          "text": [
            "20  no existe en la tupla\n"
          ],
          "name": "stdout"
        }
      ]
    },
    {
      "cell_type": "markdown",
      "metadata": {
        "id": "q4Uq80WikgpI"
      },
      "source": [
        "Crear una lista con 40 elementos aleatorios enteros."
      ]
    },
    {
      "cell_type": "code",
      "metadata": {
        "colab": {
          "base_uri": "https://localhost:8080/"
        },
        "id": "lZQO7Gqqkizh",
        "outputId": "77d820e1-2ede-4469-b68e-f1c4246700fa"
      },
      "source": [
        "import random \n",
        "A2= []\n",
        "while len(A2)<40:\n",
        "  A2.append(random.randint(0,50))\n",
        "print(A2)"
      ],
      "execution_count": 80,
      "outputs": [
        {
          "output_type": "stream",
          "text": [
            "[50, 13, 32, 48, 18, 7, 49, 7, 3, 8, 48, 47, 37, 33, 27, 15, 25, 13, 12, 16, 32, 1, 5, 4, 10, 7, 15, 41, 27, 42, 19, 32, 43, 1, 46, 29, 29, 12, 15, 34]\n"
          ],
          "name": "stdout"
        }
      ]
    },
    {
      "cell_type": "markdown",
      "metadata": {
        "id": "8_LdqPNPlz5_"
      },
      "source": [
        "Con una funcion (def) crear dos listas nuevas a partir de la lista creada por numeros aleatorios, en la cual en una esten los elementos pares, y en la otra los elementos impares."
      ]
    },
    {
      "cell_type": "code",
      "metadata": {
        "colab": {
          "base_uri": "https://localhost:8080/"
        },
        "id": "Lple9sutl3zq",
        "outputId": "239bb8db-fd9d-4f88-d200-378b6bce29b6"
      },
      "source": [
        "def par(A2):\n",
        "  par= [i for i in A2 if i % 2 == 0]\n",
        "  return par\n",
        "def impar(A2):\n",
        "    impar=[i for i in A2 if i%2  !=0]\n",
        "    return impar\n",
        "Apar=par(A2)\n",
        "Aimpar=impar(A2)\n",
        "print(\"Numeros pares de la lista: \",Apar)\n",
        "print(\"Numeros impares de la lista: \",Aimpar)"
      ],
      "execution_count": 85,
      "outputs": [
        {
          "output_type": "stream",
          "text": [
            "Numeros pares de la lista:  [50, 32, 48, 18, 8, 48, 12, 16, 32, 4, 10, 42, 32, 46, 12, 34]\n",
            "Numeros impares de la lista:  [13, 7, 49, 7, 3, 47, 37, 33, 27, 15, 25, 13, 1, 5, 7, 15, 41, 27, 19, 43, 1, 29, 29, 15]\n"
          ],
          "name": "stdout"
        }
      ]
    },
    {
      "cell_type": "markdown",
      "metadata": {
        "id": "ZyKstlASncuM"
      },
      "source": [
        "Crear dos variables con la longitud de ambas listas nuevas e imprimir las variables."
      ]
    },
    {
      "cell_type": "code",
      "metadata": {
        "colab": {
          "base_uri": "https://localhost:8080/"
        },
        "id": "VdlBCiSCnhov",
        "outputId": "ff307a2d-9766-43c6-cf13-5f0641d19730"
      },
      "source": [
        "lonP= len(Apar)\n",
        "lonI= len(Aimpar)\n",
        "print(\"La longitud de los pares es de \", lonP)\n",
        "print(\"La longitud de los impares es de \", lonI)"
      ],
      "execution_count": 86,
      "outputs": [
        {
          "output_type": "stream",
          "text": [
            "La longitud de los pares es de  16\n",
            "La longitud de los impares es de  24\n"
          ],
          "name": "stdout"
        }
      ]
    },
    {
      "cell_type": "markdown",
      "metadata": {
        "id": "ijmTuEbnn4xg"
      },
      "source": [
        "Ordenar los elementos de la lista par de mayor a menor, y los de la lista impar de menor a mayor."
      ]
    },
    {
      "cell_type": "code",
      "metadata": {
        "colab": {
          "base_uri": "https://localhost:8080/"
        },
        "id": "12nw-tAfn7vd",
        "outputId": "68b275fb-061c-4424-d6b6-2b36d32c874a"
      },
      "source": [
        "Apar.sort(reverse=True)\n",
        "Aimpar.sort()\n",
        "print(\"Mayor a menor de los pares /n\",Apar )\n",
        "print(\"Menor a mayor de los impares /n\", Aimpar)\n"
      ],
      "execution_count": 89,
      "outputs": [
        {
          "output_type": "stream",
          "text": [
            "Mayor a menor de los pares /n [50, 48, 48, 46, 42, 34, 32, 32, 32, 18, 16, 12, 12, 10, 8, 4]\n",
            "Menor a mayor de los impares /n [1, 1, 3, 5, 7, 7, 7, 13, 13, 15, 15, 15, 19, 25, 27, 27, 29, 29, 33, 37, 41, 43, 47, 49]\n"
          ],
          "name": "stdout"
        }
      ]
    },
    {
      "cell_type": "markdown",
      "metadata": {
        "id": "NsqnlB6CohA0"
      },
      "source": [
        "Utilizar al menos cuatro de las funciones de listas en python en la lista original de 40 elementos."
      ]
    },
    {
      "cell_type": "code",
      "metadata": {
        "colab": {
          "base_uri": "https://localhost:8080/"
        },
        "id": "tpwjKFTkok83",
        "outputId": "4c946247-6d0f-4f2b-8e67-e13a6221b5dd"
      },
      "source": [
        "long=len(A2)\n",
        "print(\"La cantidad de elementos \",long)\n",
        "print(\"El maximo de la lista es \", max(A2))\n",
        "print(\"El minimo de la lista es \", min(A2))\n",
        "A2[19]=100\n",
        "print(\"La lista con un elemento cambiado\",A2)"
      ],
      "execution_count": 98,
      "outputs": [
        {
          "output_type": "stream",
          "text": [
            "La cantidad de elementos  40\n",
            "El maximo de la lista es  100\n",
            "El minimo de la lista es  1\n",
            "La lista con un elemento cambiado [50, 13, 32, 48, 18, 7, 49, 7, 3, 8, 48, 47, 37, 33, 27, 15, 25, 13, 12, 100, 32, 1, 5, 4, 10, 7, 15, 41, 27, 42, 19, 32, 43, 1, 46, 29, 29, 12, 15, 34]\n"
          ],
          "name": "stdout"
        }
      ]
    },
    {
      "cell_type": "markdown",
      "metadata": {
        "id": "q3Rv3_zpq0jW"
      },
      "source": [
        "Crear un diccionario de 6 personas que conozcas con su primer nombre y su edad."
      ]
    },
    {
      "cell_type": "code",
      "metadata": {
        "colab": {
          "base_uri": "https://localhost:8080/"
        },
        "id": "2_FR4rHnq3s3",
        "outputId": "ff67dada-b876-4aa7-daa2-b0a3958df857"
      },
      "source": [
        "diccionario = {\"Carlos\":20,\"Marco\":19,\"Paulina\":30,\"Angeles\":25,\"Brandon\":18,\"Lussely\":28 }\n",
        "print(diccionario)"
      ],
      "execution_count": 104,
      "outputs": [
        {
          "output_type": "stream",
          "text": [
            "{'Carlos': 20, 'Marco': 19, 'Paulina': 30, 'Angeles': 25, 'Brandon': 18, 'Lussely': 28}\n"
          ],
          "name": "stdout"
        }
      ]
    },
    {
      "cell_type": "markdown",
      "metadata": {
        "id": "WafvbaBRr7WT"
      },
      "source": [
        "Crear una lista con los valores de la edad y reacomodar la lista de menor a mayor valor."
      ]
    },
    {
      "cell_type": "markdown",
      "metadata": {
        "id": "2fm_l1GmtFYQ"
      },
      "source": [
        "Crea un set con 100 numeros aleatorios enteros entre el 1 al 25"
      ]
    },
    {
      "cell_type": "code",
      "metadata": {
        "id": "ycaSoIYptLpP"
      },
      "source": [
        "import random\n",
        "B1= set ()\n",
        "\n",
        "while len(B1)<=99:\n",
        "  B1.add(random.randint(1,25))\n",
        "  \n",
        "print(B1)"
      ],
      "execution_count": null,
      "outputs": []
    },
    {
      "cell_type": "markdown",
      "metadata": {
        "id": "m0OdMxvSuBc0"
      },
      "source": [
        "Comprueba la longitud de tu set.\n",
        "\n"
      ]
    },
    {
      "cell_type": "code",
      "metadata": {
        "colab": {
          "base_uri": "https://localhost:8080/"
        },
        "id": "W2AcznySuF5m",
        "outputId": "a619324a-df3b-41a0-d221-43f70a4bd64b"
      },
      "source": [
        "longB1=len(B1)\n",
        "print(\"Tamaño del set es \",longB1)"
      ],
      "execution_count": 111,
      "outputs": [
        {
          "output_type": "stream",
          "text": [
            "Tamaño del set es  25\n"
          ],
          "name": "stdout"
        }
      ]
    }
  ]
}